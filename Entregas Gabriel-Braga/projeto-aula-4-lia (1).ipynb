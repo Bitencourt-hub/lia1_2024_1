{
 "cells": [
  {
   "cell_type": "markdown",
   "id": "3ecf66c9",
   "metadata": {
    "papermill": {
     "duration": 0.007273,
     "end_time": "2024-03-27T13:29:48.926204",
     "exception": false,
     "start_time": "2024-03-27T13:29:48.918931",
     "status": "completed"
    },
    "tags": []
   },
   "source": []
  },
  {
   "cell_type": "markdown",
   "id": "2b3a1789",
   "metadata": {
    "papermill": {
     "duration": 0.005133,
     "end_time": "2024-03-27T13:29:48.938189",
     "exception": false,
     "start_time": "2024-03-27T13:29:48.933056",
     "status": "completed"
    },
    "tags": []
   },
   "source": [
    "<hr style=\"height:10px\"> \n",
    " \n",
    "<div class='container2'>\n",
    "\t\t<div>\n",
    "\t\t\t<img src='https://upload.wikimedia.org/wikipedia/commons/0/06/Espa%C3%A7o_Sideral.png' ALIGN='left' style='width:10em'>\n",
    "\t\t</div>\t\n",
    "\t<div style='padding: 0 7em 2em 12em;'>\n",
    "\t<h1>Laboratório de Inovação e Automação 1 (LIA 1)</h1>\n",
    "\t<div style=\"font-size:12pt;float:left;\"> 2024/1 | 24M34 | Sala 200 CAE</div><br><br>\n",
    "    <div style=\"font-size:12pt;float:left;\"><b>Projetos de Inteligência Artificial</b></div>\n",
    "\t</div>\n",
    "</div>\n",
    "\n",
    "\n",
    " <hr style=\"height:5px\"> \n",
    "\n",
    "    \n",
    "<h2>Introdução ao Ambiente de Projetos - Python</h2>\n",
    "\n",
    "Notebook desenvolvido por: <a href=\"http://lattes.cnpq.br/1346824250595330\">Prof. Dr. Adriano C. Santana</a>\n",
    "\n",
    " <hr style=\"height:2px\">"
   ]
  },
  {
   "cell_type": "code",
   "execution_count": 1,
   "id": "eebf5cde",
   "metadata": {
    "execution": {
     "iopub.execute_input": "2024-03-27T13:29:48.951616Z",
     "iopub.status.busy": "2024-03-27T13:29:48.950839Z",
     "iopub.status.idle": "2024-03-27T13:29:48.964429Z",
     "shell.execute_reply": "2024-03-27T13:29:48.962869Z"
    },
    "papermill": {
     "duration": 0.023795,
     "end_time": "2024-03-27T13:29:48.967345",
     "exception": false,
     "start_time": "2024-03-27T13:29:48.943550",
     "status": "completed"
    },
    "tags": []
   },
   "outputs": [
    {
     "name": "stdout",
     "output_type": "stream",
     "text": [
      "A versão em uso é 3.10.13.\n"
     ]
    }
   ],
   "source": [
    "from platform import python_version\n",
    "print(f'A versão em uso é {python_version()}.')"
   ]
  },
  {
   "cell_type": "code",
   "execution_count": 2,
   "id": "000b7ff9",
   "metadata": {
    "execution": {
     "iopub.execute_input": "2024-03-27T13:29:48.980170Z",
     "iopub.status.busy": "2024-03-27T13:29:48.979803Z",
     "iopub.status.idle": "2024-03-27T13:29:48.988481Z",
     "shell.execute_reply": "2024-03-27T13:29:48.987067Z"
    },
    "papermill": {
     "duration": 0.016878,
     "end_time": "2024-03-27T13:29:48.990248",
     "exception": false,
     "start_time": "2024-03-27T13:29:48.973370",
     "status": "completed"
    },
    "tags": []
   },
   "outputs": [
    {
     "data": {
      "text/plain": [
       "'3.10.13'"
      ]
     },
     "execution_count": 2,
     "metadata": {},
     "output_type": "execute_result"
    }
   ],
   "source": [
    "python_version()"
   ]
  },
  {
   "cell_type": "code",
   "execution_count": 3,
   "id": "d840df1d",
   "metadata": {
    "execution": {
     "iopub.execute_input": "2024-03-27T13:29:49.002386Z",
     "iopub.status.busy": "2024-03-27T13:29:49.002017Z",
     "iopub.status.idle": "2024-03-27T13:29:49.009487Z",
     "shell.execute_reply": "2024-03-27T13:29:49.006997Z"
    },
    "papermill": {
     "duration": 0.01693,
     "end_time": "2024-03-27T13:29:49.012399",
     "exception": false,
     "start_time": "2024-03-27T13:29:48.995469",
     "status": "completed"
    },
    "tags": []
   },
   "outputs": [
    {
     "name": "stdout",
     "output_type": "stream",
     "text": [
      "Bye bye, World!\n"
     ]
    }
   ],
   "source": [
    "# Verificar se o Python está funcionando\n",
    "print('Bye bye, World!')"
   ]
  },
  {
   "cell_type": "markdown",
   "id": "cb372860",
   "metadata": {
    "papermill": {
     "duration": 0.006095,
     "end_time": "2024-03-27T13:29:49.024534",
     "exception": false,
     "start_time": "2024-03-27T13:29:49.018439",
     "status": "completed"
    },
    "tags": []
   },
   "source": [
    "Operadores Aritméticos"
   ]
  },
  {
   "cell_type": "code",
   "execution_count": 4,
   "id": "bc0d2b81",
   "metadata": {
    "execution": {
     "iopub.execute_input": "2024-03-27T13:29:49.038560Z",
     "iopub.status.busy": "2024-03-27T13:29:49.038062Z",
     "iopub.status.idle": "2024-03-27T13:29:49.045636Z",
     "shell.execute_reply": "2024-03-27T13:29:49.044171Z"
    },
    "papermill": {
     "duration": 0.017696,
     "end_time": "2024-03-27T13:29:49.048095",
     "exception": false,
     "start_time": "2024-03-27T13:29:49.030399",
     "status": "completed"
    },
    "tags": []
   },
   "outputs": [
    {
     "data": {
      "text/plain": [
       "2"
      ]
     },
     "execution_count": 4,
     "metadata": {},
     "output_type": "execute_result"
    }
   ],
   "source": [
    "# Adição\n",
    "1 + 1"
   ]
  },
  {
   "cell_type": "code",
   "execution_count": 5,
   "id": "7109b83c",
   "metadata": {
    "execution": {
     "iopub.execute_input": "2024-03-27T13:29:49.061939Z",
     "iopub.status.busy": "2024-03-27T13:29:49.061022Z",
     "iopub.status.idle": "2024-03-27T13:29:49.066530Z",
     "shell.execute_reply": "2024-03-27T13:29:49.065868Z"
    },
    "papermill": {
     "duration": 0.014793,
     "end_time": "2024-03-27T13:29:49.068550",
     "exception": false,
     "start_time": "2024-03-27T13:29:49.053757",
     "status": "completed"
    },
    "tags": []
   },
   "outputs": [
    {
     "data": {
      "text/plain": [
       "1"
      ]
     },
     "execution_count": 5,
     "metadata": {},
     "output_type": "execute_result"
    }
   ],
   "source": [
    "# Subtração\n",
    "2 - 1\n"
   ]
  },
  {
   "cell_type": "code",
   "execution_count": 6,
   "id": "e9ca473e",
   "metadata": {
    "execution": {
     "iopub.execute_input": "2024-03-27T13:29:49.081702Z",
     "iopub.status.busy": "2024-03-27T13:29:49.081275Z",
     "iopub.status.idle": "2024-03-27T13:29:49.088063Z",
     "shell.execute_reply": "2024-03-27T13:29:49.087248Z"
    },
    "papermill": {
     "duration": 0.016206,
     "end_time": "2024-03-27T13:29:49.090253",
     "exception": false,
     "start_time": "2024-03-27T13:29:49.074047",
     "status": "completed"
    },
    "tags": []
   },
   "outputs": [
    {
     "data": {
      "text/plain": [
       "4"
      ]
     },
     "execution_count": 6,
     "metadata": {},
     "output_type": "execute_result"
    }
   ],
   "source": [
    "# Multiplicação\n",
    "2 * 2\n"
   ]
  },
  {
   "cell_type": "code",
   "execution_count": 7,
   "id": "948fe31f",
   "metadata": {
    "execution": {
     "iopub.execute_input": "2024-03-27T13:29:49.103819Z",
     "iopub.status.busy": "2024-03-27T13:29:49.103327Z",
     "iopub.status.idle": "2024-03-27T13:29:49.108872Z",
     "shell.execute_reply": "2024-03-27T13:29:49.108210Z"
    },
    "papermill": {
     "duration": 0.014673,
     "end_time": "2024-03-27T13:29:49.111329",
     "exception": false,
     "start_time": "2024-03-27T13:29:49.096656",
     "status": "completed"
    },
    "tags": []
   },
   "outputs": [
    {
     "data": {
      "text/plain": [
       "1.5"
      ]
     },
     "execution_count": 7,
     "metadata": {},
     "output_type": "execute_result"
    }
   ],
   "source": [
    "# Divisão\n",
    "3 / 2\n"
   ]
  },
  {
   "cell_type": "code",
   "execution_count": 8,
   "id": "87f2bb16",
   "metadata": {
    "execution": {
     "iopub.execute_input": "2024-03-27T13:29:49.127529Z",
     "iopub.status.busy": "2024-03-27T13:29:49.126909Z",
     "iopub.status.idle": "2024-03-27T13:29:49.131427Z",
     "shell.execute_reply": "2024-03-27T13:29:49.130868Z"
    },
    "papermill": {
     "duration": 0.015469,
     "end_time": "2024-03-27T13:29:49.133372",
     "exception": false,
     "start_time": "2024-03-27T13:29:49.117903",
     "status": "completed"
    },
    "tags": []
   },
   "outputs": [
    {
     "data": {
      "text/plain": [
       "16"
      ]
     },
     "execution_count": 8,
     "metadata": {},
     "output_type": "execute_result"
    }
   ],
   "source": [
    "# Potência\n",
    "4 ** 2\n"
   ]
  },
  {
   "cell_type": "code",
   "execution_count": 9,
   "id": "e438092f",
   "metadata": {
    "execution": {
     "iopub.execute_input": "2024-03-27T13:29:49.148599Z",
     "iopub.status.busy": "2024-03-27T13:29:49.148052Z",
     "iopub.status.idle": "2024-03-27T13:29:49.152599Z",
     "shell.execute_reply": "2024-03-27T13:29:49.151782Z"
    },
    "papermill": {
     "duration": 0.01519,
     "end_time": "2024-03-27T13:29:49.155468",
     "exception": false,
     "start_time": "2024-03-27T13:29:49.140278",
     "status": "completed"
    },
    "tags": []
   },
   "outputs": [
    {
     "data": {
      "text/plain": [
       "1"
      ]
     },
     "execution_count": 9,
     "metadata": {},
     "output_type": "execute_result"
    }
   ],
   "source": [
    "# Módulo (resto da divisão)\n",
    "10 % 3"
   ]
  },
  {
   "cell_type": "markdown",
   "id": "9f6b2ac8",
   "metadata": {
    "papermill": {
     "duration": 0.006314,
     "end_time": "2024-03-27T13:29:49.168810",
     "exception": false,
     "start_time": "2024-03-27T13:29:49.162496",
     "status": "completed"
    },
    "tags": []
   },
   "source": [
    "Tipo de Dados (Type)"
   ]
  },
  {
   "cell_type": "code",
   "execution_count": 10,
   "id": "00f1784f",
   "metadata": {
    "execution": {
     "iopub.execute_input": "2024-03-27T13:29:49.183529Z",
     "iopub.status.busy": "2024-03-27T13:29:49.183164Z",
     "iopub.status.idle": "2024-03-27T13:29:49.188313Z",
     "shell.execute_reply": "2024-03-27T13:29:49.187496Z"
    },
    "papermill": {
     "duration": 0.015289,
     "end_time": "2024-03-27T13:29:49.190781",
     "exception": false,
     "start_time": "2024-03-27T13:29:49.175492",
     "status": "completed"
    },
    "tags": []
   },
   "outputs": [
    {
     "data": {
      "text/plain": [
       "int"
      ]
     },
     "execution_count": 10,
     "metadata": {},
     "output_type": "execute_result"
    }
   ],
   "source": [
    "# Qual o tipo do (?) -> Inteiro\n",
    "type(5)\n"
   ]
  },
  {
   "cell_type": "code",
   "execution_count": 11,
   "id": "2c51fa7f",
   "metadata": {
    "execution": {
     "iopub.execute_input": "2024-03-27T13:29:49.207274Z",
     "iopub.status.busy": "2024-03-27T13:29:49.206942Z",
     "iopub.status.idle": "2024-03-27T13:29:49.212324Z",
     "shell.execute_reply": "2024-03-27T13:29:49.211214Z"
    },
    "papermill": {
     "duration": 0.015937,
     "end_time": "2024-03-27T13:29:49.214338",
     "exception": false,
     "start_time": "2024-03-27T13:29:49.198401",
     "status": "completed"
    },
    "tags": []
   },
   "outputs": [
    {
     "data": {
      "text/plain": [
       "float"
      ]
     },
     "execution_count": 11,
     "metadata": {},
     "output_type": "execute_result"
    }
   ],
   "source": [
    "# Qual o tipo do (?) -> Float - Decimal\n",
    "type(5.0)\n"
   ]
  },
  {
   "cell_type": "code",
   "execution_count": 12,
   "id": "62206fa0",
   "metadata": {
    "execution": {
     "iopub.execute_input": "2024-03-27T13:29:49.228067Z",
     "iopub.status.busy": "2024-03-27T13:29:49.227595Z",
     "iopub.status.idle": "2024-03-27T13:29:49.232499Z",
     "shell.execute_reply": "2024-03-27T13:29:49.231770Z"
    },
    "papermill": {
     "duration": 0.013502,
     "end_time": "2024-03-27T13:29:49.234096",
     "exception": false,
     "start_time": "2024-03-27T13:29:49.220594",
     "status": "completed"
    },
    "tags": []
   },
   "outputs": [
    {
     "data": {
      "text/plain": [
       "str"
      ]
     },
     "execution_count": 12,
     "metadata": {},
     "output_type": "execute_result"
    }
   ],
   "source": [
    "# Qual o tipo do (?) -> String\n",
    "a = 'Estudando Python!'\n",
    "type(a)"
   ]
  },
  {
   "cell_type": "markdown",
   "id": "0d2d6ce3",
   "metadata": {
    "papermill": {
     "duration": 0.005873,
     "end_time": "2024-03-27T13:29:49.246538",
     "exception": false,
     "start_time": "2024-03-27T13:29:49.240665",
     "status": "completed"
    },
    "tags": []
   },
   "source": []
  },
  {
   "cell_type": "markdown",
   "id": "3841b4bf",
   "metadata": {
    "papermill": {
     "duration": 0.005841,
     "end_time": "2024-03-27T13:29:49.258930",
     "exception": false,
     "start_time": "2024-03-27T13:29:49.253089",
     "status": "completed"
    },
    "tags": []
   },
   "source": [
    "Condicional if\n"
   ]
  },
  {
   "cell_type": "code",
   "execution_count": 13,
   "id": "c8bda306",
   "metadata": {
    "execution": {
     "iopub.execute_input": "2024-03-27T13:29:49.273806Z",
     "iopub.status.busy": "2024-03-27T13:29:49.273455Z",
     "iopub.status.idle": "2024-03-27T13:29:49.277469Z",
     "shell.execute_reply": "2024-03-27T13:29:49.276818Z"
    },
    "papermill": {
     "duration": 0.014269,
     "end_time": "2024-03-27T13:29:49.279467",
     "exception": false,
     "start_time": "2024-03-27T13:29:49.265198",
     "status": "completed"
    },
    "tags": []
   },
   "outputs": [
    {
     "name": "stdout",
     "output_type": "stream",
     "text": [
      "A sentença é verdadeira!\n"
     ]
    }
   ],
   "source": [
    "# Condicional if (Se)\n",
    "if 5 > 2:\n",
    "    print(\"A sentença é verdadeira!\")\n"
   ]
  },
  {
   "cell_type": "code",
   "execution_count": 14,
   "id": "188d8847",
   "metadata": {
    "execution": {
     "iopub.execute_input": "2024-03-27T13:29:49.293636Z",
     "iopub.status.busy": "2024-03-27T13:29:49.293351Z",
     "iopub.status.idle": "2024-03-27T13:29:49.296879Z",
     "shell.execute_reply": "2024-03-27T13:29:49.296313Z"
    },
    "papermill": {
     "duration": 0.013259,
     "end_time": "2024-03-27T13:29:49.299210",
     "exception": false,
     "start_time": "2024-03-27T13:29:49.285951",
     "status": "completed"
    },
    "tags": []
   },
   "outputs": [
    {
     "name": "stdout",
     "output_type": "stream",
     "text": [
      "A sentença é falsa!\n"
     ]
    }
   ],
   "source": [
    "# Condicional if...else\n",
    "if 5 < 2:\n",
    "    print(\"A sentença é verdadeira!\")\n",
    "else:\n",
    "    print(\"A sentença é falsa!\")\n"
   ]
  },
  {
   "cell_type": "code",
   "execution_count": 15,
   "id": "919ab27a",
   "metadata": {
    "execution": {
     "iopub.execute_input": "2024-03-27T13:29:49.314698Z",
     "iopub.status.busy": "2024-03-27T13:29:49.314134Z",
     "iopub.status.idle": "2024-03-27T13:29:49.319659Z",
     "shell.execute_reply": "2024-03-27T13:29:49.317984Z"
    },
    "papermill": {
     "duration": 0.015588,
     "end_time": "2024-03-27T13:29:49.321674",
     "exception": false,
     "start_time": "2024-03-27T13:29:49.306086",
     "status": "completed"
    },
    "tags": []
   },
   "outputs": [
    {
     "name": "stdout",
     "output_type": "stream",
     "text": [
      "Hoje vai chover!\n"
     ]
    }
   ],
   "source": [
    "# Condicional if...else com variável\n",
    "dia = \"Quarta-feira\"\n",
    "if dia == \"Sexta-feira\":\n",
    "    print(\"Hoje fará sol!\")\n",
    "else:\n",
    "    print(\"Hoje vai chover!\")"
   ]
  },
  {
   "cell_type": "markdown",
   "id": "4bdd53e1",
   "metadata": {
    "papermill": {
     "duration": 0.006426,
     "end_time": "2024-03-27T13:29:49.334823",
     "exception": false,
     "start_time": "2024-03-27T13:29:49.328397",
     "status": "completed"
    },
    "tags": []
   },
   "source": [
    "Manipulando arquivos\n"
   ]
  },
  {
   "cell_type": "markdown",
   "id": "9bb8fe5b",
   "metadata": {
    "papermill": {
     "duration": 0.006094,
     "end_time": "2024-03-27T13:29:49.347249",
     "exception": false,
     "start_time": "2024-03-27T13:29:49.341155",
     "status": "completed"
    },
    "tags": []
   },
   "source": [
    "Lendo arquivos (.txt)\n"
   ]
  },
  {
   "cell_type": "code",
   "execution_count": 16,
   "id": "20686583",
   "metadata": {
    "execution": {
     "iopub.execute_input": "2024-03-27T13:29:49.362132Z",
     "iopub.status.busy": "2024-03-27T13:29:49.361704Z",
     "iopub.status.idle": "2024-03-27T13:29:49.370843Z",
     "shell.execute_reply": "2024-03-27T13:29:49.369080Z"
    },
    "papermill": {
     "duration": 0.020394,
     "end_time": "2024-03-27T13:29:49.373982",
     "exception": false,
     "start_time": "2024-03-27T13:29:49.353588",
     "status": "completed"
    },
    "tags": []
   },
   "outputs": [],
   "source": [
    "# Abrindo o arquivo para leitura\n",
    "a1 = open(\"/kaggle/input/aula4-lia/arquivo1\", \"r\")\n"
   ]
  },
  {
   "cell_type": "code",
   "execution_count": 17,
   "id": "1aadd697",
   "metadata": {
    "execution": {
     "iopub.execute_input": "2024-03-27T13:29:49.390660Z",
     "iopub.status.busy": "2024-03-27T13:29:49.390238Z",
     "iopub.status.idle": "2024-03-27T13:29:49.397408Z",
     "shell.execute_reply": "2024-03-27T13:29:49.395882Z"
    },
    "papermill": {
     "duration": 0.019352,
     "end_time": "2024-03-27T13:29:49.400794",
     "exception": false,
     "start_time": "2024-03-27T13:29:49.381442",
     "status": "completed"
    },
    "tags": []
   },
   "outputs": [
    {
     "name": "stdout",
     "output_type": "stream",
     "text": [
      "Teste\n",
      "\n"
     ]
    }
   ],
   "source": [
    "# Lendo o arquivo\n",
    "print(a1.read())"
   ]
  },
  {
   "cell_type": "markdown",
   "id": "0d5bcff8",
   "metadata": {
    "papermill": {
     "duration": 0.006615,
     "end_time": "2024-03-27T13:29:49.414998",
     "exception": false,
     "start_time": "2024-03-27T13:29:49.408383",
     "status": "completed"
    },
    "tags": []
   },
   "source": [
    "Gravando arquivos (.txt)\n"
   ]
  },
  {
   "cell_type": "code",
   "execution_count": 18,
   "id": "1b75940c",
   "metadata": {
    "execution": {
     "iopub.execute_input": "2024-03-27T13:29:49.431015Z",
     "iopub.status.busy": "2024-03-27T13:29:49.430637Z",
     "iopub.status.idle": "2024-03-27T13:29:49.438446Z",
     "shell.execute_reply": "2024-03-27T13:29:49.437039Z"
    },
    "papermill": {
     "duration": 0.018578,
     "end_time": "2024-03-27T13:29:49.440955",
     "exception": false,
     "start_time": "2024-03-27T13:29:49.422377",
     "status": "completed"
    },
    "tags": []
   },
   "outputs": [
    {
     "name": "stdout",
     "output_type": "stream",
     "text": [
      "Aprendendo Python em 2024/1 ao som de um cortador de grama!\n"
     ]
    }
   ],
   "source": [
    "# Abrindo o arquivo para gravação\n",
    "a2 = open(\"/kaggle/working/arquivo1\", \"w\")\n",
    "# Gravando no arquivo\n",
    "a2.write(\"Aprendendo Python em 2024/1 ao som de um cortador de grama!\")\n",
    "# Abrindo o arquivo para leitura\n",
    "a2 = open(\"/kaggle/working/arquivo1\", \"r\")\n",
    "# Imprimindo arquivo\n",
    "print(a2.read())"
   ]
  }
 ],
 "metadata": {
  "kaggle": {
   "accelerator": "none",
   "dataSources": [
    {
     "datasetId": 4680194,
     "sourceId": 7956867,
     "sourceType": "datasetVersion"
    }
   ],
   "dockerImageVersionId": 30673,
   "isGpuEnabled": false,
   "isInternetEnabled": false,
   "language": "python",
   "sourceType": "notebook"
  },
  "kernelspec": {
   "display_name": "Python 3",
   "language": "python",
   "name": "python3"
  },
  "language_info": {
   "codemirror_mode": {
    "name": "ipython",
    "version": 3
   },
   "file_extension": ".py",
   "mimetype": "text/x-python",
   "name": "python",
   "nbconvert_exporter": "python",
   "pygments_lexer": "ipython3",
   "version": "3.10.13"
  },
  "papermill": {
   "default_parameters": {},
   "duration": 3.587854,
   "end_time": "2024-03-27T13:29:49.768530",
   "environment_variables": {},
   "exception": null,
   "input_path": "__notebook__.ipynb",
   "output_path": "__notebook__.ipynb",
   "parameters": {},
   "start_time": "2024-03-27T13:29:46.180676",
   "version": "2.5.0"
  }
 },
 "nbformat": 4,
 "nbformat_minor": 5
}
